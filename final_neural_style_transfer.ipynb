{
  "nbformat": 4,
  "nbformat_minor": 0,
  "metadata": {
    "colab": {
      "provenance": []
    },
    "kernelspec": {
      "name": "python3",
      "display_name": "Python 3"
    },
    "language_info": {
      "name": "python"
    }
  },
  "cells": [
    {
      "cell_type": "markdown",
      "source": [
        "#Importing Libraries"
      ],
      "metadata": {
        "id": "ogdT4YEsd5eB"
      }
    },
    {
      "cell_type": "code",
      "source": [
        "import os\n",
        "import tensorflow as tf\n",
        "import matplotlib.pyplot as plt\n",
        "from PIL import Image\n",
        "import numpy as np\n",
        "import time\n",
        "from tqdm import tqdm"
      ],
      "metadata": {
        "id": "XNObhs3Nd9s3"
      },
      "execution_count": null,
      "outputs": []
    },
    {
      "cell_type": "markdown",
      "source": [
        "#Loading the images"
      ],
      "metadata": {
        "id": "aP85FxWcpdMr"
      }
    },
    {
      "cell_type": "code",
      "source": [
        "def load_image(image_path):\n",
        "    image = Image.open(image_path).convert(\"RGB\")\n",
        "    image = image.resize((224, 224))\n",
        "    image = np.array(image)\n",
        "    image = image / 255.0  # Scale to [0, 1]\n",
        "    image = tf.convert_to_tensor(image, dtype=tf.float32)\n",
        "    image = tf.expand_dims(image, axis=0)  # Add batch dimension\n",
        "    return image"
      ],
      "metadata": {
        "id": "J-Zx315mpfLH"
      },
      "execution_count": null,
      "outputs": []
    },
    {
      "cell_type": "markdown",
      "source": [
        "#Visualization"
      ],
      "metadata": {
        "id": "qq0BKCk1pmAV"
      }
    },
    {
      "cell_type": "code",
      "source": [
        "def imshow(image, title=None):\n",
        "    if len(image.shape) > 3:\n",
        "        image = tf.squeeze(image, axis=0)\n",
        "    plt.imshow(image)\n",
        "    if title:\n",
        "        plt.title(title)\n",
        "\n",
        "content_path = \"download.png\"\n",
        "style_path = \"picasso.jpg\"\n",
        "content_image = load_image(content_path)\n",
        "style_image = load_image(style_path)\n",
        "print(content_image.shape, style_image.shape)\n",
        "\n",
        "plt.figure(figsize=(14, 7))\n",
        "plt.subplot(1, 2, 1)\n",
        "imshow(content_image, \"Content Image\")\n",
        "plt.subplot(1, 2, 2)\n",
        "imshow(style_image, \"Style Image\")\n",
        "plt.show()"
      ],
      "metadata": {
        "id": "Q-wNI4Yopn8U"
      },
      "execution_count": null,
      "outputs": []
    },
    {
      "cell_type": "markdown",
      "source": [
        "#Feature Extraction\n"
      ],
      "metadata": {
        "id": "GhpBM8iPp0EE"
      }
    },
    {
      "cell_type": "code",
      "source": [
        "vgg = tf.keras.applications.VGG19(weights=\"imagenet\", include_top=False)\n",
        "vgg.trainable = False\n",
        "\n",
        "content_layers = [\"block5_conv2\"]\n",
        "style_layers = [\"block2_conv1\", \"block3_conv1\", \"block4_conv1\", \"block5_conv1\"]\n",
        "num_content_layers = len(content_layers)\n",
        "num_style_layers = len(style_layers)\n",
        "\n",
        "def vgg_layers(layer_names):\n",
        "    vgg = tf.keras.applications.VGG19(include_top=False, weights=\"imagenet\")\n",
        "    vgg.trainable = False\n",
        "    outputs = [vgg.get_layer(name).output for name in layer_names]\n",
        "    model = tf.keras.Model([vgg.input], outputs)\n",
        "    return model\n",
        "\n",
        "style_extractor = vgg_layers(style_layers)\n",
        "style_outputs = style_extractor(style_image * 255)\n",
        "\n",
        "def gram_matrix(input_tensor):\n",
        "    result = tf.linalg.einsum(\"bijc,bijd->bcd\", input_tensor, input_tensor)\n",
        "    input_shape = tf.shape(input_tensor)\n",
        "    num_locations = tf.cast(input_shape[1] * input_shape[2], tf.float32)\n",
        "    return result / num_locations"
      ],
      "metadata": {
        "id": "iO2t1WLXp3VT"
      },
      "execution_count": null,
      "outputs": []
    },
    {
      "cell_type": "markdown",
      "source": [
        "#Model"
      ],
      "metadata": {
        "id": "lEgdvjuqp-uW"
      }
    },
    {
      "cell_type": "code",
      "source": [
        "class StyleContentModel(tf.keras.models.Model):\n",
        "    def __init__(self, style_layers, content_layers):\n",
        "        super(StyleContentModel, self).__init__()\n",
        "        self.vgg = vgg_layers(style_layers + content_layers)\n",
        "        self.style_layers = style_layers\n",
        "        self.content_layers = content_layers\n",
        "        self.num_style_layers = len(style_layers)\n",
        "        self.vgg.trainable = False\n",
        "\n",
        "    def call(self, inputs):\n",
        "        inputs = inputs * 255.0\n",
        "        preprocessed_input = tf.keras.applications.vgg19.preprocess_input(inputs)\n",
        "        outputs = self.vgg(preprocessed_input)\n",
        "        style_outputs, content_outputs = (outputs[:self.num_style_layers], outputs[self.num_style_layers:])\n",
        "        style_outputs = [gram_matrix(style_output) for style_output in style_outputs]\n",
        "        content_dict = {content_name: value for content_name, value in zip(self.content_layers, content_outputs)}\n",
        "        style_dict = {style_name: value for style_name, value in zip(self.style_layers, style_outputs)}\n",
        "        return {\"content\": content_dict, \"style\": style_dict}\n",
        "\n",
        "extractor = StyleContentModel(style_layers, content_layers)\n",
        "style_targets = extractor(style_image)[\"style\"]\n",
        "content_targets = extractor(content_image)[\"content\"]\n",
        "\n",
        "def clip_0_1(image):\n",
        "    return tf.clip_by_value(image, clip_value_min=0.0, clip_value_max=1.0)\n",
        "\n",
        "optim = tf.optimizers.Adam(learning_rate=0.01, beta_1=0.9, beta_2=0.999, epsilon=1e-08)"
      ],
      "metadata": {
        "id": "9WmkqkZUp_8M"
      },
      "execution_count": null,
      "outputs": []
    },
    {
      "cell_type": "markdown",
      "source": [
        "#Loss"
      ],
      "metadata": {
        "id": "RMOgE20MqFoh"
      }
    },
    {
      "cell_type": "code",
      "source": [
        "style_weight = 1\n",
        "content_weight = 1e2\n",
        "\n",
        "def style_content_loss(outputs):\n",
        "    style_outputs = outputs[\"style\"]\n",
        "    content_outputs = outputs[\"content\"]\n",
        "    style_loss = tf.add_n([tf.reduce_mean((style_outputs[name] - style_targets[name])**2) for name in style_outputs.keys()])\n",
        "    content_loss = tf.add_n([tf.reduce_mean((content_outputs[name] - content_targets[name])**2) for name in content_outputs.keys()])\n",
        "    style_loss *= style_weight / num_style_layers\n",
        "    content_loss *= content_weight / num_content_layers\n",
        "    return style_loss + content_loss"
      ],
      "metadata": {
        "id": "Pmnk60LLqHUl"
      },
      "execution_count": null,
      "outputs": []
    },
    {
      "cell_type": "markdown",
      "source": [
        "#Training"
      ],
      "metadata": {
        "id": "MA3BAiSKqPDh"
      }
    },
    {
      "cell_type": "code",
      "source": [
        "@tf.function\n",
        "def train_step(image):\n",
        "    with tf.GradientTape() as tape:\n",
        "        outputs = extractor(image)\n",
        "        loss = style_content_loss(outputs)\n",
        "        loss += 1e-6 * tf.image.total_variation(image)\n",
        "    grad = tape.gradient(loss, image)\n",
        "    optim.apply_gradients([(grad, image)])\n",
        "    image.assign(clip_0_1(image))\n",
        "\n",
        "def tensor_to_image(tensor):\n",
        "    tensor = tensor * 255\n",
        "    tensor = np.array(tensor, dtype=np.uint8)\n",
        "    if np.ndim(tensor) > 3:\n",
        "        assert tensor.shape[0] == 1\n",
        "        tensor = tensor[0]\n",
        "    return Image.fromarray(tensor)\n",
        "image = tf.Variable(content_image)\n",
        "import IPython.display as display\n",
        "from tqdm import tqdm  # For progress bar\n",
        "epochs = 10\n",
        "steps_per_epoch = 150\n",
        "\n",
        "for epoch in range(epochs):\n",
        "    print(f\"Epoch {epoch + 1}/{epochs}\")\n",
        "    for step in tqdm(range(steps_per_epoch), desc=\"Training Steps\"):\n",
        "        train_step(image)\n",
        "        if step % 10 == 0:  # Display progress every 10 steps\n",
        "            display.clear_output(wait=True)\n",
        "            display.display(tensor_to_image(image))\n",
        "\n",
        "    print(f\"Done with epoch {epoch + 1}\")"
      ],
      "metadata": {
        "id": "lr2ZBLVhqOL5"
      },
      "execution_count": null,
      "outputs": []
    },
    {
      "cell_type": "markdown",
      "source": [
        "#Saving the Image"
      ],
      "metadata": {
        "id": "HahzGQyEqcsM"
      }
    },
    {
      "cell_type": "code",
      "execution_count": null,
      "metadata": {
        "id": "qK1EfLswdJ5I"
      },
      "outputs": [],
      "source": [
        "display.display(tensor_to_image(image))\n",
        "final_image = tensor_to_image(image)\n",
        "final_image.save(\"stylized_image.jpg\")"
      ]
    },
    {
      "cell_type": "markdown",
      "source": [
        "##Improving the image"
      ],
      "metadata": {
        "id": "O2LrEoyMtS67"
      }
    },
    {
      "cell_type": "code",
      "source": [
        "from PIL import Image, ImageEnhance\n",
        "\n",
        "# Enhance sharpness\n",
        "enhancer = ImageEnhance.Sharpness(image)\n",
        "sharpness_factor = 2.0  # Increase to enhance sharpness, decrease to reduce sharpness\n",
        "image = enhancer.enhance(sharpness_factor)\n",
        "\n",
        "# Enhance contrast\n",
        "enhancer = ImageEnhance.Contrast(image)\n",
        "contrast_factor = 1.5  # Increase to enhance contrast, decrease to reduce contrast\n",
        "image = enhancer.enhance(contrast_factor)\n",
        "\n",
        "# Save the improved image\n",
        "output_path = \"improved_image.jpg\"\n",
        "image.save(output_path)\n",
        "\n",
        "# Display the improved image\n",
        "image.show()\n"
      ],
      "metadata": {
        "id": "V00DttdPkbPy"
      },
      "execution_count": null,
      "outputs": []
    }
  ]
}